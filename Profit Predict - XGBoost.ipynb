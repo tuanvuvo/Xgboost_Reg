{
 "cells": [
  {
   "cell_type": "code",
   "execution_count": 255,
   "metadata": {},
   "outputs": [
    {
     "data": {
      "image/png": "[encoded data removed]",
      "text/plain": [
       "<Figure size 504x504 with 1 Axes>"
      ]
     },
     "metadata": {
      "needs_background": "light"
     },
     "output_type": "display_data"
    }
   ],
   "source": [
    "import pandas as pd\n",
    "import numpy as np\n",
    "data = pd.read_csv('shpt.csv')\n",
    "df = pd.DataFrame(data)\n",
    "# no need columns \n",
    "df = df.drop(['WO','Bound'],axis=1)\n",
    "df= df[df['Profit']<1000]\n",
    "y = np.array(df['Profit'])\n",
    "#print(df.corr())\n",
    "#print(df.var())\n",
    "#print(df.describe())\n",
    "#print(y)\n",
    "import matplotlib.pyplot as plt\n",
    "plt.hist(y)\n",
    "plt.show()"
   ]
  },
  {
   "cell_type": "code",
   "execution_count": 235,
   "metadata": {},
   "outputs": [
    {
     "name": "stdout",
     "output_type": "stream",
     "text": [
      "<class 'pandas.core.frame.DataFrame'>\n",
      "Int64Index: 1352 entries, 12 to 1370\n",
      "Columns: 314 entries, Vol to Cargo Source_Nomination\n",
      "dtypes: float64(1), int64(1), uint8(312)\n",
      "memory usage: 443.6 KB\n",
      "None\n",
      "Models columns dumped!\n"
     ]
    }
   ],
   "source": [
    "#from sklearn.preprocessing import LabelEncoder\n",
    "#le = LabelEncoder()\n",
    "new_df = pd.get_dummies(data=df,columns=['Term','From','To','Mode','Commodity','Cargo Source']) #,'GNT Staff','Customer Name'\n",
    "#new_df = new_df.drop(['WO','Cargo Source'],axis=1) #,'GNT Staff','Customer Name','Shipper','Cnee','Country','Carrier','Kick_Back','Comision','Mark_Up'\n",
    "print(new_df.info())\n",
    "feature_names = list(np.array(new_df.columns))\n",
    "#print(feature_names)\n",
    "from sklearn.externals import joblib\n",
    "joblib.dump(feature_names, 'model_columns_xgboost.pkl')\n",
    "print(\"Models columns dumped!\")\n"
   ]
  },
  {
   "cell_type": "code",
   "execution_count": 236,
   "metadata": {},
   "outputs": [
    {
     "name": "stdout",
     "output_type": "stream",
     "text": [
      "(1352, 313)\n",
      "[10  0  0  0  0  0  0  1  0  0  0  0  0  0  0  0  0  0  0  0  0  0  0  0\n",
      "  0  0  0  1  0  0  0  0  0  0  0  0  0  0  0  0  0  0  0  0  0  0  0  0\n",
      "  0  0  0  0  0  0  0  0  0  0  0  0  0  0  0  0  0  0  0  0  0  0  0  0\n",
      "  0  0  0  0  0  0  0  0  0  0  0  0  0  0  0  0  0  0  0  0  0  0  0  0\n",
      "  0  0  0  0  0  0  0  0  0  0  0  0  0  0  0  0  0  0  0  0  0  0  0  0\n",
      "  0  0  0  1  0  0  0  0  0  0  0  0  0  0  0  0  0  0  0  0  0  0  0  0\n",
      "  0  0  0  0  0  0  0  0  0  0  0  0  0  0  0  0  0  0  0  0  0  0  0  0\n",
      "  0  0  0  0  0  0  0  0  0  0  0  0  0  0  0  0  0  0  0  0  0  0  0  0\n",
      "  0  0  0  0  0  0  0  0  0  0  0  0  0  0  0  0  0  0  0  0  0  0  0  0\n",
      "  0  0  0  0  0  0  0  0  0  0  0  0  0  1  0  0  0  0  0  0  0  0  0  0\n",
      "  0  0  0  0  0  0  0  0  0  0  0  0  0  0  0  0  0  0  1  0  0  0  0  0\n",
      "  0  0  0  0  0  0  0  0  0  0  0  0  0  0  0  0  0  0  0  0  0  0  0  0\n",
      "  0  0  0  0  0  0  0  0  0  0  0  0  0  0  0  0  0  0  0  0  0  0  0  0\n",
      "  1]\n",
      "992.67\n",
      "(1352,)\n",
      "313\n",
      "Models columns dumped!\n"
     ]
    }
   ],
   "source": [
    "Y = np.array(new_df['Profit'])\n",
    "new_df = new_df.drop(['Profit'],axis=1)\n",
    "X = np.array(new_df)\n",
    "feature_names = list(np.array(new_df.columns))\n",
    "print(X.shape)\n",
    "print(X[0])\n",
    "print(Y[0])\n",
    "print(Y.shape)\n",
    "print(len(feature_names))\n",
    "from sklearn.externals import joblib\n",
    "joblib.dump(feature_names, 'model_columns_xgboost.pkl')\n",
    "print(\"Models columns dumped!\")"
   ]
  },
  {
   "cell_type": "code",
   "execution_count": 237,
   "metadata": {},
   "outputs": [
    {
     "name": "stdout",
     "output_type": "stream",
     "text": [
      "(1081, 313)\n",
      "(271, 313)\n",
      "(1081,)\n",
      "(271,)\n"
     ]
    },
    {
     "name": "stderr",
     "output_type": "stream",
     "text": [
      "/usr/local/lib/python3.5/dist-packages/sklearn/utils/validation.py:590: DataConversionWarning: Data with input dtype int64 was converted to float64 by StandardScaler.\n",
      "  warnings.warn(msg, DataConversionWarning)\n",
      "/usr/local/lib/python3.5/dist-packages/sklearn/utils/validation.py:590: DataConversionWarning: Data with input dtype int64 was converted to float64 by StandardScaler.\n",
      "  warnings.warn(msg, DataConversionWarning)\n",
      "/usr/local/lib/python3.5/dist-packages/sklearn/utils/validation.py:590: DataConversionWarning: Data with input dtype int64 was converted to float64 by StandardScaler.\n",
      "  warnings.warn(msg, DataConversionWarning)\n"
     ]
    }
   ],
   "source": [
    "from sklearn.model_selection import train_test_split\n",
    "X_train, X_test, y_train, y_test = train_test_split(X, Y, test_size=0.2, random_state=42)\n",
    "from sklearn.preprocessing import StandardScaler,MinMaxScaler,MaxAbsScaler,RobustScaler,Normalizer\n",
    "scaler = StandardScaler()\n",
    "# Fit on training set only.\n",
    "scaler.fit(X_train)\n",
    "# Apply transform to both the training set and the test set.\n",
    "X_train = scaler.transform(X_train)\n",
    "X_test = scaler.transform(X_test)\n",
    "#Xs = SS.fit_transform(X)\n",
    "print(X_train.shape)\n",
    "print(X_test.shape)\n",
    "print(y_train.shape)\n",
    "print(y_test.shape)"
   ]
  },
  {
   "cell_type": "code",
   "execution_count": 247,
   "metadata": {},
   "outputs": [
    {
     "name": "stdout",
     "output_type": "stream",
     "text": [
      "Pred: 481.26694 - True: 540.0 Diff: 58.73\n",
      "Pred: 105.799416 - True: 101.0 Diff: -4.8\n",
      "Pred: 19.791065 - True: 25.0 Diff: 5.21\n",
      "Pred: 110.82728 - True: 75.0 Diff: -35.83\n",
      "Pred: 248.43146 - True: 40.0 Diff: -208.43\n",
      "Pred: 109.19891 - True: 93.79 Diff: -15.41\n",
      "Pred: 77.45689 - True: 43.17 Diff: -34.29\n",
      "Pred: 184.347 - True: 322.23 Diff: 137.88\n",
      "Pred: 102.98012 - True: 102.0 Diff: -0.98\n",
      "Pred: 144.76541 - True: 61.4 Diff: -83.37\n",
      "Root Mean squared error: 93.35\n",
      "R2 Score: 0.59\n"
     ]
    },
    {
     "data": {
      "text/plain": [
       "Text(0, 0.5, 'Predictions')"
      ]
     },
     "execution_count": 247,
     "metadata": {},
     "output_type": "execute_result"
    },
    {
     "data": {
      "image/png": "[encoded data removed]",
      "text/plain": [
       "<Figure size 504x504 with 1 Axes>"
      ]
     },
     "metadata": {
      "needs_background": "light"
     },
     "output_type": "display_data"
    }
   ],
   "source": [
    "import xgboost as xgb\n",
    "#DM_train = xgb.DMatrix(data=X_train,label=y_train,feature_names=feature_names)\n",
    "#DM_test = xgb.DMatrix(data=X_test,label=y_test,feature_names=feature_names)\n",
    "params = {\"booster\":\"gbtree\",\"objective\":\"reg:linear\",\"eval_metric\":\"mae\",\"lambda\": 1,\"max_depth\":10,\"eta\": 0.0001,\"learning_rate\": 0.7, \"alpha\": 10,\"colsample_bytree\": 0.9,\"gamma\": 100}\n",
    "num_boost_round = 20\n",
    "model = xgb.XGBRegressor(booster='dart',objective=\"reg:linear\",reg_lambda=10,max_depth=10,learning_rate=0.7,reg_alpha=0.1,colsample_bytree=0.9,gamma=100,feature_selector='shuffle',n_estimators=100)\n",
    "model.fit(X_train, y_train, early_stopping_rounds=5, \n",
    "             eval_set=[(X_test, y_test)], verbose=False, eval_metric='mae') #mae rmse,eval_metric='rmse'\n",
    "#xg_reg = xgb.train(params = params, dtrain=DM_train,num_boost_round=num_boost_round)\n",
    "y_pred = model.predict(X_test)\n",
    "#xg_reg.save_model('xgb-profit-quote.model')\n",
    "import pickle\n",
    "pickle.dump(model, open(\"xgb-profit-quote.dat\", \"wb\"))\n",
    "\n",
    "from sklearn.metrics import mean_squared_error, r2_score\n",
    "for i in range(10):\n",
    "    print('Pred:',y_pred[i],'- True:',y_test[i],'Diff:',round(y_test[i]-y_pred[i],2))\n",
    "print(\"Root Mean squared error: %.2f\" % np.sqrt(mean_squared_error(y_test, y_pred)))\n",
    "print('R2 Score: %.2f' % r2_score(y_test, y_pred))\n",
    "plt.scatter(y_test, y_pred)\n",
    "plt.xlabel('True Values')\n",
    "plt.ylabel('Predictions')"
   ]
  },
  {
   "cell_type": "code",
   "execution_count": 239,
   "metadata": {},
   "outputs": [],
   "source": [
    "#from sklearn.model_selection import KFold, train_test_split, GridSearchCV\n",
    "\n",
    "#xgb_model = xgb.XGBRegressor(booster='gbtree',objective=\"reg:linear\")\n",
    "#clf = GridSearchCV(xgb_model,\n",
    "#                   {'max_depth': [2,4,6,10,15,20],\n",
    " #                   'n_estimators': [50,100,200],\n",
    "  #                  'lambda':[0.1,1,3,5,7],\n",
    "   #                 'learning_rate': [0.1,0.3,0.5,0.7,0.9],\n",
    "    #                'alpha': [0.1,1,3,5,7,10,15,20],\n",
    "     #               'colsample_bytree': [0.1,0.3,0.5,0.7,0.9],\n",
    "      #              'gamma':[1,10,20,40,60,80,100]}, verbose=1)\n",
    "#clf.fit(X,y)\n",
    "#print(clf.best_score_)\n",
    "#print(clf.best_params_)"
   ]
  },
  {
   "cell_type": "code",
   "execution_count": null,
   "metadata": {},
   "outputs": [],
   "source": []
  }
 ],
 "metadata": {
  "kernelspec": {
   "display_name": "Python 3",
   "language": "python",
   "name": "python3"
  },
  "language_info": {
   "codemirror_mode": {
    "name": "ipython",
    "version": 3
   },
   "file_extension": ".py",
   "mimetype": "text/x-python",
   "name": "python",
   "nbconvert_exporter": "python",
   "pygments_lexer": "ipython3",
   "version": "3.5.2"
  }
 },
 "nbformat": 4,
 "nbformat_minor": 2
}
